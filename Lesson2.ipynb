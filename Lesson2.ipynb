{
 "cells": [
  {
   "cell_type": "code",
   "execution_count": 44,
   "metadata": {},
   "outputs": [
    {
     "name": "stdout",
     "output_type": "stream",
     "text": [
      "[12 13 14 15 16 17 18 19 20 21 22 23]\n",
      "[[12 13 14 15 16 17]\n",
      " [18 19 20 21 22 23]]\n",
      "[[12 13 14 15]\n",
      " [16 17 18 19]\n",
      " [20 21 22 23]]\n",
      "[[12 13 14]\n",
      " [15 16 17]\n",
      " [18 19 20]\n",
      " [21 22 23]]\n",
      "[[12 13]\n",
      " [14 15]\n",
      " [16 17]\n",
      " [18 19]\n",
      " [20 21]\n",
      " [22 23]]\n",
      "[[12]\n",
      " [13]\n",
      " [14]\n",
      " [15]\n",
      " [16]\n",
      " [17]\n",
      " [18]\n",
      " [19]\n",
      " [20]\n",
      " [21]\n",
      " [22]\n",
      " [23]]\n",
      "[[12 13 14 15 16 17]\n",
      " [18 19 20 21 22 23]]\n",
      "[[12 13 14 15]\n",
      " [16 17 18 19]\n",
      " [20 21 22 23]]\n",
      "[[12 13 14]\n",
      " [15 16 17]\n",
      " [18 19 20]\n",
      " [21 22 23]]\n",
      "[[12 13]\n",
      " [14 15]\n",
      " [16 17]\n",
      " [18 19]\n",
      " [20 21]\n",
      " [22 23]]\n",
      "[[12]\n",
      " [13]\n",
      " [14]\n",
      " [15]\n",
      " [16]\n",
      " [17]\n",
      " [18]\n",
      " [19]\n",
      " [20]\n",
      " [21]\n",
      " [22]\n",
      " [23]]\n",
      "2\n",
      "12\n",
      "[[ 1.57921282  0.76743473 -0.46947439  0.54256004 -0.46341769 -0.46572975\n",
      "   0.24196227 -1.91328024 -1.72491783 -0.56228753 -1.01283112  0.31424733]]\n",
      "12\n",
      "[20 18 16 14 12 10  8  6  4  2]\n",
      "[[20 18 16 14 12 10  8  6  4  2]]\n",
      "[[0. 0.]\n",
      " [0. 0.]]\n",
      "[[1. 1.]\n",
      " [1. 1.]\n",
      " [1. 1.]]\n",
      "[[0. 0.]\n",
      " [0. 0.]\n",
      " [1. 1.]\n",
      " [1. 1.]\n",
      " [1. 1.]] 10\n",
      "[[ 0  3  6  9]\n",
      " [ 1  4  7 10]\n",
      " [ 2  5  8 11]] 2\n",
      "[[  5  14  23  32]\n",
      " [ 14  50  86 122]\n",
      " [ 23  86 149 212]\n",
      " [ 32 122 212 302]]\n",
      "[[ 6  3 12 14]\n",
      " [10  7 12  4]\n",
      " [ 6  9  2  6]\n",
      " [10 10  7  4]]\n",
      "[[ 65  44 143 172]\n",
      " [114 120 206 162]\n",
      " [ 83 176 169 272]\n",
      " [132 222 282 342]]\n",
      "[[ 0.00935396  0.04486532  0.05897517 -0.07286055]\n",
      " [-0.01503577 -0.00122896 -0.00192971  0.00967873]\n",
      " [-0.00356692 -0.01782828 -0.04152146  0.04326178]\n",
      " [ 0.00909091 -0.00181818  0.01272727 -0.01090909]]\n",
      "-28511999.999999944 4\n",
      "[[0.00935396 0.04486532 0.05897517 0.        ]\n",
      " [0.         0.         0.         0.00967873]\n",
      " [0.         0.         0.         0.04326178]\n",
      " [0.00909091 0.         0.01272727 0.        ]]\n",
      "[[1. 1. 1. 0.]\n",
      " [0. 0. 0. 1.]\n",
      " [0. 0. 0. 1.]\n",
      " [1. 0. 1. 0.]]\n",
      "[[  5  14  23  14]\n",
      " [ 10   7  12 122]\n",
      " [  6   9   2 212]\n",
      " [ 32  10 212   4]]\n"
     ]
    }
   ],
   "source": [
    "### задание 1\n",
    "import numpy as np\n",
    "#1.1\n",
    "a = np.array([i for i in range(12,24)]); print(a)\n",
    "a1 = a.reshape( 2,6); print(a1)\n",
    "a2 = a.reshape( 3,4); print(a2)\n",
    "a3 = a.reshape( 4,3); print(a3)\n",
    "a4 = a.reshape( 6,2); print(a4)\n",
    "a5 = a.reshape(12,1); print(a5)\n",
    "b1 = a.reshape( 2,-1); print(b1)\n",
    "b2 = a.reshape( 3,-1); print(b2)\n",
    "b3 = a.reshape( 4,-1); print(b3)\n",
    "b4 = a.reshape(-1, 2); print(b4)\n",
    "b5 = a.reshape(-1, 1); print(b5); print(b5.ndim)\n",
    "# в математическом смысле b5 тоже можно считать одномерным, хотя b5.ndim дает ответ 2\n",
    "\n",
    "#1.2\n",
    "c = (np.random.normal(0,1.0,12)).reshape( 3,4); print(c.size)\n",
    "c1=c.reshape(1,-1); print(c1); print(c1.size)\n",
    "\n",
    "#1.3\n",
    "a=np.arange(20,0,-2); print(a)               # формально - массив одномерный\n",
    "b=np.arange(20,1,-2).reshape(1,10); print(b) # формально - массив двумерный\n",
    "\n",
    "#1.4\n",
    "a = np.zeros((2,2)); print(a)\n",
    "b = np.ones((3,2)); print(b)\n",
    "v = np.vstack((a,b)); print(v,v.size)\n",
    "\n",
    "#1.5\n",
    "a = np.arange(0,12); A = a.reshape(4,3); At = A.T; print(At, np.linalg.matrix_rank(At))\n",
    "B = np.dot(A,At);print(B)\n",
    "#Bi = np.linalg.inv(B); print(Bi)  # обратной матрицы нет для вырожденной матрицы\n",
    "\n",
    "#1.6\n",
    "np.random.seed(42)\n",
    "c = np.random.randint(0,16,16)\n",
    "C = c.reshape(4,4); print(C)\n",
    "D = B +10*C; D_inv =np.linalg.inv(D)\n",
    "print(D); print(D_inv); print(np.linalg.det(D), np.linalg.matrix_rank(D))\n",
    "\n",
    "#1.7\n",
    "i =np.where(D_inv<0); D_inv[i] = 0; print(D_inv)\n",
    "i =np.where(D_inv>0); D_inv[i] = 1; print(D_inv)\n",
    "E = np.where(D_inv,B,C); print(E)"
   ]
  },
  {
   "cell_type": "code",
   "execution_count": 52,
   "metadata": {},
   "outputs": [
    {
     "name": "stdout",
     "output_type": "stream",
     "text": [
      "[2.  8.4]\n"
     ]
    }
   ],
   "source": [
    "# ЗАДАНИЕ 2\n",
    "a=np.array(([1, 2, 3, 3, 1],[6, 8, 11, 10, 7])); a = a.T; mean_a = a.mean(axis=0); print(mean_a)"
   ]
  },
  {
   "cell_type": "code",
   "execution_count": 55,
   "metadata": {},
   "outputs": [
    {
     "name": "stdout",
     "output_type": "stream",
     "text": [
      "[[-1.  -2.4]\n",
      " [ 0.  -0.4]\n",
      " [ 1.   2.6]\n",
      " [ 1.   1.6]\n",
      " [-1.  -1.4]]\n"
     ]
    }
   ],
   "source": [
    "# ЗАДАНИЕ 3\n",
    "a_centered = a - np.array([mean_a]*5)\n",
    "print(a_centered)"
   ]
  },
  {
   "cell_type": "code",
   "execution_count": 62,
   "metadata": {},
   "outputs": [
    {
     "name": "stdout",
     "output_type": "stream",
     "text": [
      "8.0\n",
      "2.0\n"
     ]
    }
   ],
   "source": [
    "# ЗАДАНИЕ 4\n",
    "a_centered_sp = np.dot(a_centered[:,0],a_centered[:,1])\n",
    "print(a_centered_sp)\n",
    "a_centered_sp /= (a_centered[:,0].size - 1)\n",
    "print(a_centered_sp)"
   ]
  }
 ],
 "metadata": {
  "kernelspec": {
   "display_name": "Python 3",
   "language": "python",
   "name": "python3"
  },
  "language_info": {
   "codemirror_mode": {
    "name": "ipython",
    "version": 3
   },
   "file_extension": ".py",
   "mimetype": "text/x-python",
   "name": "python",
   "nbconvert_exporter": "python",
   "pygments_lexer": "ipython3",
   "version": "3.7.3"
  }
 },
 "nbformat": 4,
 "nbformat_minor": 2
}
